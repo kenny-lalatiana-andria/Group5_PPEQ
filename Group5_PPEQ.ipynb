{
 "cells": [
  {
   "cell_type": "markdown",
   "id": "6bda727a-0d6b-47b2-a1eb-6171ec6de927",
   "metadata": {},
   "source": [
    "![AIMS Logo](https://aims.ac.rw/wp-content/uploads/sites/7/2020/10/AIMS-RWANDA-logo-PRINT-RGB.jpg)"
   ]
  },
  {
   "cell_type": "markdown",
   "id": "de77e9b4-ae26-4de9-aee7-bd460aebf38b",
   "metadata": {},
   "source": [
    "---\n",
    "# <center><b>License Plate Detection<br>\n",
    "## <center><b>Group 5:<br>\n",
    "<center>Kenny Lalatiana ANDRIANTIAVINTSOA<br>\n",
    "<center>Deborah Mercy AUNGA<br>\n",
    "<center>Oliver NALUNKUMA<br>\n",
    "<center>Sidoine Blao ZOUA</center>\n",
    "    \n",
    "---"
   ]
  },
  {
   "cell_type": "markdown",
   "id": "afc92263-662e-4070-92b5-599734295a2d",
   "metadata": {},
   "source": [
    "## `is_plate()`"
   ]
  },
  {
   "cell_type": "code",
   "execution_count": 1,
   "id": "1529b07e-ba69-4f51-ad5a-8d0485974d66",
   "metadata": {},
   "outputs": [],
   "source": [
    "def is_plate(candidate):\n",
    "    \"\"\"\n",
    "    This funciton verify if any string of length 10 is of the form XY-abcd-T or XY-abcd-ZT.\n",
    "    XY abcd T, XY abcd ZT also are  accepted. Where X,Y,Z,T are any alphabet and a,b,c,d in {0,1,2,3,4,5,6,7,8,9}.\n",
    "    It is case insensitive.\n",
    "    Input : String of length 10 to verify.\n",
    "    Output : \n",
    "            -False if there is no match\n",
    "            -True, XY-abcd-T if there is match for length equal to 9\n",
    "            -True, XY-abcd-TZ if there is match for length equal to 10\n",
    "    \"\"\"\n",
    "    digit =\"0123456789\"   # Use a strict ASCII digit definition to ensure only '0' to '9' are accepted;\n",
    "                          # other methods like .isdigit() and .isdecimal() may return True for non-standard characters\n",
    "                          # such as Unicode superscripts (e.g., '²') or vulgar fractions (e.g., '⅓'). \n",
    "\n",
    "    if len(candidate) not in(9,10):\n",
    "        return False\n",
    "    \n",
    "    checker=True          # this flag tracks whether the candidate is valid so far\n",
    "    index=0\n",
    "    \n",
    "    while checker == True:\n",
    "        if index==len(candidate)-1:                               # reached the end, stop checking\n",
    "            break\n",
    "        char = candidate[index]\n",
    "        if (index==0 or index==1 or index==8):                    # Check the character at index 0,1,8 are alphabet\n",
    "            char = candidate[index].lower()\n",
    "            checker = char.isalpha()\n",
    "        elif (index==2 or index==7):\n",
    "            if char==\"-\" or char.isspace():                       # check the character at index 2 and 7 are '-' or space\n",
    "                pass\n",
    "            else:\n",
    "                checker=False\n",
    "        elif (index==3 or index==4 or index==5 or index==6):      # check if the character at index 3,4,5 and 6 are in '0123456789'\n",
    "            checker = char in digit\n",
    "        index+=1\n",
    "\n",
    "        \n",
    "    if checker==False:\n",
    "        return checker\n",
    "    else:\n",
    "        if candidate[-1].isalpha():                               # chek if the character at index 9 is alpha, the it a plate of the form AB-abcd-XT (len=10)\n",
    "            return (True,candidate.upper())\n",
    "        else:\n",
    "            return (True,candidate[:-1].upper())                  # else it is a plate of the form AB-abcd-X (len=9)"
   ]
  },
  {
   "cell_type": "markdown",
   "id": "c98c6aed-4e3e-480a-a385-786b4b288139",
   "metadata": {},
   "source": [
    "### Examples"
   ]
  },
  {
   "cell_type": "code",
   "execution_count": 9,
   "id": "04d54562-4410-4f7a-b834-1f46b3e09368",
   "metadata": {},
   "outputs": [
    {
     "data": {
      "text/plain": [
       "(True, 'AX-1234 T')"
      ]
     },
     "execution_count": 9,
     "metadata": {},
     "output_type": "execute_result"
    }
   ],
   "source": [
    "is_plate('AX-1234 t')"
   ]
  },
  {
   "cell_type": "code",
   "execution_count": 10,
   "id": "2435c5c4-7ebe-4a15-ac7d-f1b772203578",
   "metadata": {},
   "outputs": [
    {
     "data": {
      "text/plain": [
       "False"
      ]
     },
     "execution_count": 10,
     "metadata": {},
     "output_type": "execute_result"
    }
   ],
   "source": [
    "is_plate('AX-1234-TXS') #len >10"
   ]
  },
  {
   "cell_type": "code",
   "execution_count": 11,
   "id": "018bfd35-9091-4239-a327-7d86f1426ca7",
   "metadata": {},
   "outputs": [
    {
     "data": {
      "text/plain": [
       "False"
      ]
     },
     "execution_count": 11,
     "metadata": {},
     "output_type": "execute_result"
    }
   ],
   "source": [
    "is_plate('AX12345T')"
   ]
  },
  {
   "cell_type": "markdown",
   "id": "1a941d72-d6a1-4759-b26e-1af973152b6b",
   "metadata": {},
   "source": [
    "---"
   ]
  },
  {
   "cell_type": "markdown",
   "id": "6c0f1d4d-579c-4833-8423-6871aeec52a1",
   "metadata": {},
   "source": [
    "## `normalize()`"
   ]
  },
  {
   "cell_type": "code",
   "execution_count": 5,
   "id": "e1eabd82-5775-4797-b126-c30458cca491",
   "metadata": {},
   "outputs": [],
   "source": [
    "def normalize(plate):\n",
    "    \"\"\"\n",
    "    This function normalize the given string into the form XY-abcd-T or XY-abcd-ZT.\n",
    "    \n",
    "    Input : \n",
    "          candidate(str):String to normalize.\n",
    "          \n",
    "    Output: \n",
    "          str: Normalized string into XY-abcd-T or XY-abcd-ZT\n",
    "    \"\"\"\n",
    "    if plate[2].isspace() or plate[7].isspace():      # check if the character at the index 2 or the character at the index 7 is space\n",
    "        normalized=plate.replace(' ','-')             # if it is a space, replace into '-'\n",
    "    else:\n",
    "        normalized = plate                            # if not, keep the character\n",
    "    return normalized"
   ]
  },
  {
   "cell_type": "markdown",
   "id": "e7ed0013-1530-4b49-9c43-535c3aa1a54c",
   "metadata": {},
   "source": [
    "### Examples : "
   ]
  },
  {
   "cell_type": "code",
   "execution_count": 12,
   "id": "2df58467-884a-441f-9f45-fad73c47eede",
   "metadata": {},
   "outputs": [
    {
     "data": {
      "text/plain": [
       "'AX-1234-T'"
      ]
     },
     "execution_count": 12,
     "metadata": {},
     "output_type": "execute_result"
    }
   ],
   "source": [
    "normalize(\"AX 1234 T\")"
   ]
  },
  {
   "cell_type": "code",
   "execution_count": 13,
   "id": "57f067a8-c52f-4d1d-ba51-2048083b32fd",
   "metadata": {},
   "outputs": [
    {
     "data": {
      "text/plain": [
       "'AX-1234-T'"
      ]
     },
     "execution_count": 13,
     "metadata": {},
     "output_type": "execute_result"
    }
   ],
   "source": [
    "normalize(\"AX-1234-T\") #change nothing cause it is already normalized"
   ]
  },
  {
   "cell_type": "markdown",
   "id": "699e1576-e58d-4770-9730-ee98faa3779e",
   "metadata": {},
   "source": [
    "---"
   ]
  },
  {
   "cell_type": "markdown",
   "id": "8843b90c-0d2f-4859-a141-75a488f247cf",
   "metadata": {},
   "source": [
    "## `detection()`"
   ]
  },
  {
   "cell_type": "code",
   "execution_count": 15,
   "id": "e8ea5335-7eab-4b95-9529-7dcd13a98ec9",
   "metadata": {},
   "outputs": [],
   "source": [
    "def detection(text):\n",
    "    \"\"\"\n",
    "    Detects all valid license plates in a given text.\n",
    "    \n",
    "    A valid plate must be separated from other words by a space or punctuation.\n",
    "\n",
    "    Input :\n",
    "        text (str): The input text to scan for license plates.\n",
    "\n",
    "   Output:\n",
    "        list: A list of valid, normalized license plates found in the text.\n",
    "    \"\"\"\n",
    "    plate_found = []\n",
    "    text_len = len(text)\n",
    "\n",
    "    for index in range(text_len - 8):  # avoid out of range error\n",
    "        if text[index].isalpha():  # possible start of a plate, since a place begins with alphabet\n",
    "            candidate = text[index:index + 10]\n",
    "            is_candidate_plate = is_plate(candidate)\n",
    "\n",
    "            if is_candidate_plate:\n",
    "                plate = normalize(is_candidate_plate[1])  # extract the validated plate and normalize it\n",
    "                plate_len = len(plate)\n",
    "\n",
    "                # Check the character before the plate\n",
    "                if index > 0 and text[index - 1].isalnum():\n",
    "                    continue  # plate is attached to a word on the left\n",
    "\n",
    "                # Check the character after the plate\n",
    "                after_index = index + plate_len\n",
    "                if after_index < text_len and text[after_index].isalnum():\n",
    "                    continue  # plate is attached to a word on the right\n",
    "\n",
    "                # Add the plate if it is new\n",
    "                if plate not in plate_found:\n",
    "                    plate_found.append(plate)\n",
    "\n",
    "    return plate_found"
   ]
  },
  {
   "cell_type": "markdown",
   "id": "4d220018-3886-4629-8a79-ce749aed922b",
   "metadata": {},
   "source": [
    "### Examples"
   ]
  },
  {
   "cell_type": "code",
   "execution_count": 16,
   "id": "034f8c60-a939-4056-8327-55962830d330",
   "metadata": {},
   "outputs": [],
   "source": [
    "text = \"Is there any plate in this sentence?'AB 1235 T', xy-1241 TH, this is not validOP-1424-L\""
   ]
  },
  {
   "cell_type": "code",
   "execution_count": 17,
   "id": "5faf9773-6f48-40ca-a3c6-be6fe5e68490",
   "metadata": {},
   "outputs": [
    {
     "data": {
      "text/plain": [
       "['AB-1235-T', 'XY-1241-TH']"
      ]
     },
     "execution_count": 17,
     "metadata": {},
     "output_type": "execute_result"
    }
   ],
   "source": [
    "detection(text)"
   ]
  },
  {
   "cell_type": "markdown",
   "id": "b59092ea-94f0-4fac-a41a-d74d64c12f18",
   "metadata": {},
   "source": [
    "---"
   ]
  },
  {
   "cell_type": "markdown",
   "id": "33a43bd2-498a-45c8-8100-c2dcaa5d2801",
   "metadata": {},
   "source": [
    "## `main()`"
   ]
  },
  {
   "cell_type": "code",
   "execution_count": 18,
   "id": "4dfbf06a-907c-4faa-969e-2853e5c6bffd",
   "metadata": {},
   "outputs": [],
   "source": [
    "def main():\n",
    "    \"\"\"\n",
    "    Minimal interactive menu to test Senegalese license plate detection.\n",
    "\n",
    "    The user can repeatedly enter text to scan for plates.\n",
    "    Enter 'q' (or 'Q') to quit the program.\n",
    "\n",
    "    Detected plates are displayed in uppercase canonical format, \n",
    "    with a count and list of all valid plates.\n",
    "    \"\"\"\n",
    "    \n",
    "    while True:\n",
    "        text = input(\"Welcome, enter text to test (or 'q' to quit): \")\n",
    "\n",
    "        if text.lower() == 'q':\n",
    "            print(\"Thank you, goodbye!\")\n",
    "            break  # Exit the loop and program\n",
    "\n",
    "        else:\n",
    "            result = detection(text)  # Detect plates in the input text\n",
    "            count = len(result)       # To count the unique value of number of plate\n",
    "\n",
    "            if count != 0:\n",
    "                print(f\"\"\"\n",
    "==========================================================================================================================================================================\n",
    "The text contains {count} Senegalese plate number{'s' if count > 1 else ''}, which {'are' if count > 1 else 'is'} {result}\n",
    "==========================================================================================================================================================================\n",
    "\"\"\")\n",
    "            else:\n",
    "                print(\"The text does not contain any Senegalese plate number.\")"
   ]
  },
  {
   "cell_type": "markdown",
   "id": "a71d7650-718a-437a-8eab-2f3f8967a86e",
   "metadata": {},
   "source": [
    "### Examples :"
   ]
  },
  {
   "cell_type": "code",
   "execution_count": 15,
   "id": "0c9b213d-2c43-4957-9108-56679a158edb",
   "metadata": {},
   "outputs": [
    {
     "name": "stdin",
     "output_type": "stream",
     "text": [
      "Welcome, enter text to test (or 'q' to quit):  Is there any plate in this sentence?'AB 1235 T', xy-1241 TH, this is not validOP-1424-L\n"
     ]
    },
    {
     "name": "stdout",
     "output_type": "stream",
     "text": [
      "\n",
      "==========================================================================================================================================================================\n",
      "The text contains 2 Senegalese plate numbers, which are ['AB-1235-T', 'XY-1241-TH']\n",
      "==========================================================================================================================================================================\n",
      "\n"
     ]
    },
    {
     "name": "stdin",
     "output_type": "stream",
     "text": [
      "Welcome, enter text to test (or 'q' to quit):  q\n"
     ]
    },
    {
     "name": "stdout",
     "output_type": "stream",
     "text": [
      "Thank you, goodbye!\n"
     ]
    }
   ],
   "source": [
    "main()"
   ]
  },
  {
   "cell_type": "code",
   "execution_count": 8,
   "id": "e1392d76-6ef8-4dac-a9a6-3bb7b33a3928",
   "metadata": {},
   "outputs": [],
   "source": [
    "text = \"\"\"While wandering through downtown, I came across a car—SL-9876-ZT—parked awkwardly right outside the coffee shop. Just across the street, someone shouted “DK4321T!” though it might’ve been nothing more than a random outburst. Near the supermarket, an old taxi proudly displayed AA-1234-AA twice on its door.\n",
    "\n",
    "Then things got strange: I spotted XX_9999_QW, which looked more like a glitch than a plate. A truck passed by with MN 7777 OP, but the faded letters made me wonder if it was actually MN-7777-OP. One plate stood out—‘ZZ-12345-AA’—clearly too many digits! And AB12A4ZT didn’t even resemble a proper plate. Just a mess.\n",
    "\n",
    "Behind the stadium, I saw a row of cars sporting plates like XY-4321-ZW,SL9876ZT,DK4321T,AA1234AA, MN7777OP, and Z12345AA. But the one that really caught my eye was a plate scribbled in quotes: “XY-4321-QW”—almost like it was hiding a secret.\"\"\""
   ]
  },
  {
   "cell_type": "code",
   "execution_count": 6,
   "id": "3caef3dd-a222-4a3b-b26a-0becf85b7132",
   "metadata": {},
   "outputs": [
    {
     "name": "stdin",
     "output_type": "stream",
     "text": [
      "Welcome, enter text to test (or 'q' to quit):  While wandering through downtown, I came across a car—SL-9876-ZT—parked awkwardly right outside the coffee shop. Just across the street, someone shouted “DK4321T!” though it might’ve been nothing more than a random outburst. Near the supermarket, an old taxi proudly displayed AA-1234-AA twice on its door.  Then things got strange: I spotted XX_9999_QW, which looked more like a glitch than a plate. A truck passed by with MN 7777 OP, but the faded letters made me wonder if it was actually MN-7777-OP. One plate stood out—‘ZZ-12345-AA’—clearly too many digits! And AB12A4ZT didn’t even resemble a proper plate. Just a mess.  Behind the stadium, I saw a row of cars sporting plates like XY-4321-ZW,SL9876ZT,DK4321T,AA1234AA, MN7777OP, and Z12345AA. But the one that really caught my eye was a plate scribbled in quotes: “XY-4321-QW”—almost like it was hiding a secret.\n"
     ]
    },
    {
     "name": "stdout",
     "output_type": "stream",
     "text": [
      "\n",
      "==========================================================================================================================================================================\n",
      "The text contains 5 Senegalese plate numbers, which are ['SL-9876-ZT', 'AA-1234-AA', 'MN-7777-OP', 'XY-4321-ZW', 'XY-4321-QW']\n",
      "==========================================================================================================================================================================\n",
      "\n"
     ]
    },
    {
     "name": "stdin",
     "output_type": "stream",
     "text": [
      "Welcome, enter text to test (or 'q' to quit):  q\n"
     ]
    },
    {
     "name": "stdout",
     "output_type": "stream",
     "text": [
      "Thank you, goodbye!\n"
     ]
    }
   ],
   "source": [
    "main()"
   ]
  },
  {
   "cell_type": "code",
   "execution_count": 19,
   "id": "b1e99b79-c959-4816-b8bd-b53e4876a0e8",
   "metadata": {},
   "outputs": [
    {
     "name": "stdin",
     "output_type": "stream",
     "text": [
      "Welcome, enter text to test (or 'q' to quit):  i wanna test if the program works normaly at the end of the string, if there is no index erro : AX-1234-T\n"
     ]
    },
    {
     "name": "stdout",
     "output_type": "stream",
     "text": [
      "\n",
      "==========================================================================================================================================================================\n",
      "The text contains 1 Senegalese plate number, which is ['AX-1234-T']\n",
      "==========================================================================================================================================================================\n",
      "\n"
     ]
    },
    {
     "name": "stdin",
     "output_type": "stream",
     "text": [
      "Welcome, enter text to test (or 'q' to quit):  Ax 1245 T at the begining of a sentence\n"
     ]
    },
    {
     "name": "stdout",
     "output_type": "stream",
     "text": [
      "\n",
      "==========================================================================================================================================================================\n",
      "The text contains 1 Senegalese plate number, which is ['AX-1245-T']\n",
      "==========================================================================================================================================================================\n",
      "\n"
     ]
    },
    {
     "name": "stdin",
     "output_type": "stream",
     "text": [
      "Welcome, enter text to test (or 'q' to quit):  While wandering through downtown, I came across a car—SL-9876-ZT—parked awkwardly right outside the coffee shop. Just across the street, someone shouted “DK4321T!” though it might’ve been nothing more than a random outburst. Near the supermarket, an old taxi proudly displayed AA-1234-AA twice on its door.  Then things got strange: I spotted XX_9999_QW, which looked more like a glitch than a plate. A truck passed by with MN 7777 OP, but the faded letters made me wonder if it was actually MN-7777-OP. One plate stood out—‘ZZ-12345-AA’—clearly too many digits! And AB12A4ZT didn’t even resemble a proper plate. Just a mess.  Behind the stadium, I saw a row of cars sporting plates like XY-4321-ZW,SL9876ZT,DK4321T,AA1234AA, MN7777OP, and Z12345AA. But the one that really caught my eye was a plate scribbled in quotes: “XY-4321-QW”—almost like it was hiding a secret.\n"
     ]
    },
    {
     "name": "stdout",
     "output_type": "stream",
     "text": [
      "\n",
      "==========================================================================================================================================================================\n",
      "The text contains 5 Senegalese plate numbers, which are ['SL-9876-ZT', 'AA-1234-AA', 'MN-7777-OP', 'XY-4321-ZW', 'XY-4321-QW']\n",
      "==========================================================================================================================================================================\n",
      "\n"
     ]
    },
    {
     "name": "stdin",
     "output_type": "stream",
     "text": [
      "Welcome, enter text to test (or 'q' to quit):  q\n"
     ]
    },
    {
     "name": "stdout",
     "output_type": "stream",
     "text": [
      "Thank you, goodbye!\n"
     ]
    }
   ],
   "source": [
    "main()"
   ]
  },
  {
   "cell_type": "code",
   "execution_count": 11,
   "id": "9d29a17d-567b-4613-87f6-1485c8ffb208",
   "metadata": {},
   "outputs": [],
   "source": [
    "end = \"i wanna test if the program works normaly at the end of the string, if there is no index erro : AX-1234-T\"\n",
    "begining = 'Ax 1245 T at the begining of a sentence'\n",
    "sentence = \"Ax 1475 G is \""
   ]
  },
  {
   "cell_type": "code",
   "execution_count": null,
   "id": "10584c5d-1171-4520-9820-0b3405fc64f9",
   "metadata": {},
   "outputs": [],
   "source": []
  }
 ],
 "metadata": {
  "kernelspec": {
   "display_name": "Python 3 (ipykernel)",
   "language": "python",
   "name": "python3"
  },
  "language_info": {
   "codemirror_mode": {
    "name": "ipython",
    "version": 3
   },
   "file_extension": ".py",
   "mimetype": "text/x-python",
   "name": "python",
   "nbconvert_exporter": "python",
   "pygments_lexer": "ipython3",
   "version": "3.13.7"
  }
 },
 "nbformat": 4,
 "nbformat_minor": 5
}
